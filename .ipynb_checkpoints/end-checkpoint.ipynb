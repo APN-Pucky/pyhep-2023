{
 "cells": [
  {
   "cell_type": "markdown",
   "metadata": {},
   "source": [
    "# The End"
   ]
  },
  {
   "cell_type": "markdown",
   "metadata": {},
   "source": [
    "## Overview"
   ]
  },
  {
   "cell_type": "code",
   "execution_count": 24,
   "metadata": {},
   "outputs": [
    {
     "data": {
      "text/html": [
       "<img src=\"https://mermaid.ink/img/CmdyYXBoIExSOwogICAgcHlmZXluMls8Yj5weWZleW4yPC9iPgoKLSBkcmF3IGRpYWdyYW1zXS0tPiBmZXlubWw7CiAgICBmZXlubWxbPGI+RmV5bk1MPC9iPgoKLSBkZWZpbmUgZGlhZ3JhbV0tLT4gcHlMSEUgJiBweUhFUE1DOwogICAgZmV5bmFtcFs8Yj5GZXluQW1wPC9iPgoKLSBjb21wdXRlIGRpYWdyYW1dLS0+IGZleW5tbCAmIGZleW5tb2RlbDsKICAgIHVmb19kcmF3WzxiPnVmb19kcmF3PC9iPgoKLSBnZW5lcmF0ZSBhbmQgZHJhdyBkaWFncmFtXS0tPiBweWZleW4yICYgZmV5bm1vZGVsOwogICAgZmV5bm1vZGVsWzxiPkZleW5Nb2RlbDwvYj4KCi0gYWJzdHJhY3Rpb24gbGF5ZXJdLS0+IFVGTyAmIHFncmFmOwogICAgcWdyYWYoPGI+UWdyYWY8L2I+CgotIEdlbmVyYXRlIGRpYWdyYW1zKTsKICAgIFVGTyg8Yj5VRk88L2I+CgotIEZleW5tYW4gcnVsZXMpOwogICAgcHlIRVBNQyhweUhFUE1DKTsKICAgIHB5TEhFKHB5TEhFKTsK\"/>"
      ],
      "text/plain": [
       "<IPython.core.display.Image object>"
      ]
     },
     "metadata": {},
     "output_type": "display_data"
    }
   ],
   "source": [
    "import base64\n",
    "from IPython.display import Image, display\n",
    "import matplotlib.pyplot as plt\n",
    "\n",
    "def mm(graph):\n",
    "    graphbytes = graph.encode(\"utf8\")\n",
    "    base64_bytes = base64.b64encode(graphbytes)\n",
    "    base64_string = base64_bytes.decode(\"ascii\")\n",
    "    display(Image(url=\"https://mermaid.ink/img/\" + base64_string))\n",
    "\n",
    "mm(\"\"\"\n",
    "graph LR;\n",
    "    pyfeyn2[<b>pyfeyn2</b>\\n\\n- draw diagrams]--> feynml;\n",
    "    feynml[<b>FeynML</b>\\n\\n- define diagram]--> pyLHE & pyHEPMC;\n",
    "    feynamp[<b>FeynAmp</b>\\n\\n- compute diagram]--> feynml & feynmodel;\n",
    "    ufo_draw[<b>ufo_draw</b>\\n\\n- generate and draw diagram]--> pyfeyn2 & feynmodel;\n",
    "    feynmodel[<b>FeynModel</b>\\n\\n- abstraction layer]--> UFO & qgraf;\n",
    "    qgraf(<b>Qgraf</b>\\n\\n- Generate diagrams);\n",
    "    UFO(<b>UFO</b>\\n\\n- Feynman rules);\n",
    "    pyHEPMC(pyHEPMC);\n",
    "    pyLHE(pyLHE);\n",
    "\"\"\")"
   ]
  },
  {
   "cell_type": "markdown",
   "metadata": {},
   "source": [
    "## What's next\n",
    "\n",
    "* mermaid-js rendering for direct integration into Markdown and Jupyter Notebooks\n",
    "* increase the number of supported feynml attributes/styles per render\n",
    "* import and export feynml to JaxoDraw\n",
    "* add box calculations to feynamp (+ many more tests)\n",
    "* further complex combined particles\n",
    "\n",
    "Questions or comments? (Now or open an issue on [GitHub](https://github.com/APN-Pucky/pyfeyn2).)"
   ]
  },
  {
   "attachments": {},
   "cell_type": "markdown",
   "metadata": {},
   "source": []
  }
 ],
 "metadata": {
  "kernelspec": {
   "display_name": "Python 3 (ipykernel)",
   "language": "python",
   "name": "python3"
  },
  "language_info": {
   "codemirror_mode": {
    "name": "ipython",
    "version": 3
   },
   "file_extension": ".py",
   "mimetype": "text/x-python",
   "name": "python",
   "nbconvert_exporter": "python",
   "pygments_lexer": "ipython3",
   "version": "3.11.5"
  }
 },
 "nbformat": 4,
 "nbformat_minor": 4
}
