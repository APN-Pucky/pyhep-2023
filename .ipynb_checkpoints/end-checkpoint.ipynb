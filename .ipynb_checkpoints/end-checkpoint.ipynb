{
 "cells": [
  {
   "cell_type": "markdown",
   "metadata": {},
   "source": [
    "# The End"
   ]
  },
  {
   "cell_type": "markdown",
   "metadata": {},
   "source": [
    "## Overview"
   ]
  },
  {
   "cell_type": "code",
   "execution_count": 54,
   "metadata": {},
   "outputs": [
    {
     "data": {
      "text/html": [
       "<img src=\"https://mermaid.ink/img/CmdyYXBoIExSOwogICAgICAgIHVmb19kcmF3WzxiPnVmb19kcmF3PC9iPgoKLSBnZW5lcmF0ZSBhbmQgZHJhdyBkaWFncmFtXS0tPiBweWZleW4yICYgZmV5bm1vZGVsOwogICAgICAgIHB5ZmV5bjJbPGI+cHlmZXluMjwvYj4KCi0gZHJhdyBkaWFncmFtc10tLT4gZmV5bm1sICYgRmV5bm1hbiAmIFRpa1pGZXlubWFuOwogICAgICAgIGZleW5tb2RlbFs8Yj5GZXluTW9kZWw8L2I+CgotIGFic3RyYWN0aW9uIGxheWVyXS0tPiBVRk8gJiBxZ3JhZiAmIEZvcm1DYWxjOwogICAgICAgIGZleW5hbXBbPGI+RmV5bkFtcDwvYj4KCi0gY29tcHV0ZSBkaWFncmFtXS0tPiBmZXlubWwgJiBmZXlubW9kZWwgJiBGb3JtOwogICAgICAgIGZleW5tbFs8Yj5GZXluTUw8L2I+CgotIGRlZmluZSBkaWFncmFtXS0tPiBweUxIRSAmIHB5SEVQTUM7CiAgICAgICAgc3ViZ3JhcGggZXh0ZXJuCiAgICAgICAgICAgIEZleW5tYW4oRmV5bm1hbikKICAgICAgICAgICAgVGlrWkZleW5tYW4oVGlrekZleW5tYW4pCiAgICAgICAgICAgIHFncmFmKFFncmFmCgotIGdlbmVyYXRlIGRpYWdyYW1zKTsKICAgICAgICAgICAgVUZPKFVGTwoKLSBGZXlubWFuIHJ1bGVzKTsKICAgICAgICAgICAgcHlIRVBNQyhweUhFUE1DKTsKICAgICAgICAgICAgcHlMSEUocHlMSEUpOwogICAgICAgICAgICBGb3JtQ2FsYyhGb3JtQ2FsYwoKLSBnZW5lcmF0ZSBhbmQgY29tcHV0ZSktLT5Gb3JtOwogICAgICAgICAgICBGb3JtKEZvcm0pOwogICAgICAgIGVuZAo=\"/>"
      ],
      "text/plain": [
       "<IPython.core.display.Image object>"
      ]
     },
     "metadata": {},
     "output_type": "display_data"
    }
   ],
   "source": [
    "import base64\n",
    "from IPython.display import Image, display\n",
    "import matplotlib.pyplot as plt\n",
    "\n",
    "def mm(graph):\n",
    "    graphbytes = graph.encode(\"utf8\")\n",
    "    base64_bytes = base64.b64encode(graphbytes)\n",
    "    base64_string = base64_bytes.decode(\"ascii\")\n",
    "    display(Image(url=\"https://mermaid.ink/img/\" + base64_string))\n",
    "\n",
    "mm(\"\"\"\n",
    "graph LR;\n",
    "        ufo_draw[<b>ufo_draw</b>\\n\\n- generate and draw diagram]--> pyfeyn2 & feynmodel;\n",
    "        pyfeyn2[<b>pyfeyn2</b>\\n\\n- draw diagrams]--> feynml & Feynman & TikZFeynman;\n",
    "        feynmodel[<b>FeynModel</b>\\n\\n- abstraction layer]--> UFO & qgraf & FormCalc;\n",
    "        feynamp[<b>FeynAmp</b>\\n\\n- compute diagram]--> feynml & feynmodel & Form;\n",
    "        feynml[<b>FeynML</b>\\n\\n- define diagram]--> pyLHE & pyHEPMC;\n",
    "        subgraph extern\n",
    "            Feynman(Feynman)\n",
    "            TikZFeynman(TikzFeynman)\n",
    "            qgraf(Qgraf\\n\\n- generate diagrams);\n",
    "            UFO(UFO\\n\\n- Feynman rules);\n",
    "            pyHEPMC(pyHEPMC);\n",
    "            pyLHE(pyLHE);\n",
    "            FormCalc(FormCalc\\n\\n- generate and compute)-->Form;\n",
    "            Form(Form);\n",
    "        end\n",
    "\"\"\")"
   ]
  },
  {
   "cell_type": "markdown",
   "metadata": {},
   "source": [
    "## What's next\n",
    "\n",
    "* mermaid-js rendering for direct integration into Markdown and Jupyter Notebooks\n",
    "* increase the number of supported feynml attributes/styles per render\n",
    "* import and export feynml to JaxoDraw\n",
    "* add box calculations to feynamp (+ many more tests)\n",
    "* further complex combined particles\n",
    "* proper .xsd xml scheme for feynml\n",
    "* ...\n",
    "\n",
    "Questions or comments? (Now or open an issue on [GitHub](https://github.com/APN-Pucky/pyfeyn2).)"
   ]
  },
  {
   "cell_type": "code",
   "execution_count": null,
   "metadata": {},
   "outputs": [],
   "source": []
  }
 ],
 "metadata": {
  "kernelspec": {
   "display_name": "Python 3 (ipykernel)",
   "language": "python",
   "name": "python3"
  },
  "language_info": {
   "codemirror_mode": {
    "name": "ipython",
    "version": 3
   },
   "file_extension": ".py",
   "mimetype": "text/x-python",
   "name": "python",
   "nbconvert_exporter": "python",
   "pygments_lexer": "ipython3",
   "version": "3.11.5"
  }
 },
 "nbformat": 4,
 "nbformat_minor": 4
}
