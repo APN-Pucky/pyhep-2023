{
 "cells": [
  {
   "attachments": {},
   "cell_type": "markdown",
   "id": "24660f3b",
   "metadata": {},
   "source": [
    "# feynamp\n",
    "\n",
    "is a experimental package to demonstrate, that feynml + feynmodel can be used to generate amplitudes for Feynman diagrams. "
   ]
  },
  {
   "cell_type": "code",
   "execution_count": 22,
   "id": "0bce9db4-fdac-4103-b9c5-8b81b8bbcca6",
   "metadata": {},
   "outputs": [],
   "source": [
    "from feynml import *\n",
    "import feynamp as fp\n",
    "from feynamp.momentum import *\n",
    "from feynmodel.interface.ufo import load_ufo_model\n",
    "from feynamp.form.color import *\n",
    "from feynamp.form.lorentz import *\n",
    "from feynamp.form.momentum import *\n",
    "from feynamp.amplitude import square\n",
    "from sympy.parsing.sympy_parser import parse_expr\n",
    "from sympy import *"
   ]
  },
  {
   "cell_type": "code",
   "execution_count": 23,
   "id": "cf2b34d9-c3a4-4906-b85e-6bc53ebd828e",
   "metadata": {},
   "outputs": [
    {
     "data": {
      "image/png": "[encoded data removed]",
      "text/plain": [
       "<wand.image.Image: f78c0ce 'PDF' (394x394)>"
      ]
     },
     "metadata": {},
     "output_type": "display_data"
    }
   ],
   "source": [
    "v1 = Vertex()\n",
    "v2 = Vertex()\n",
    "\n",
    "fd = FeynmanDiagram().add(\n",
    "    v1,v2,\n",
    "    Propagator(pdgid=21).connect(v1,v2),\n",
    "    Leg(pdgid=1).with_target(v1).with_incoming().with_momentum(Momentum(name=\"$p_a$\")),\n",
    "    Leg(pdgid=-1).with_target(v1).with_incoming().with_momentum(Momentum(name=\"$p_b$\")),\n",
    "    Leg(pdgid=2).with_target(v2).with_outgoing().with_momentum(Momentum(name=\"$k_a$\")),\n",
    "    Leg(pdgid=-2).with_target(v2).with_outgoing().with_momentum(Momentum(name=\"$k_b$\")),\n",
    ")\n",
    "fd"
   ]
  },
  {
   "cell_type": "code",
   "execution_count": 24,
   "id": "74691d5c-08fc-4cf1-98d7-ad777247ba26",
   "metadata": {},
   "outputs": [
    {
     "data": {
      "image/png": "[encoded data removed]",
      "text/plain": [
       "<wand.image.Image: 073695c 'PDF' (394x394)>"
      ]
     },
     "metadata": {},
     "output_type": "display_data"
    }
   ],
   "source": [
    "fd.with_rule(\" * { momentum-arrow : true ; momentum-arrow-sense : -1}\")\n",
    "#fd.with_style_property(\"momentum-arrow\",\"true\")\n",
    "#fd.with_style_property(\"momentum-arrow-sense\",1)\n",
    "set_missing_momenta(fd)"
   ]
  },
  {
   "cell_type": "code",
   "execution_count": 25,
   "id": "c7bb1c44-2315-42d9-a111-dd838bd43c98",
   "metadata": {},
   "outputs": [
    {
     "data": {
      "image/png": "[encoded data removed]",
      "text/plain": [
       "<wand.image.Image: e442b7b 'PDF' (394x394)>"
      ]
     },
     "metadata": {},
     "output_type": "display_data"
    }
   ],
   "source": [
    "fd.conjugated()"
   ]
  },
  {
   "cell_type": "code",
   "execution_count": 26,
   "id": "4bb8b75c-2807-4f27-b082-1cebfa125b33",
   "metadata": {},
   "outputs": [],
   "source": [
    "fm = load_ufo_model(\"ufo_sm\")"
   ]
  },
  {
   "cell_type": "markdown",
   "id": "a1e889a7-bd1e-4d3b-8401-811b6aca1b81",
   "metadata": {},
   "source": [
    "Feynman amplitude is by default represented as a string to allow easy manipulation, but can be converted to sympy and/or used in form. The definitions from UFO are used."
   ]
  },
  {
   "cell_type": "code",
   "execution_count": 27,
   "id": "63f972d1-82d7-4b23-a99c-d5c3391109b8",
   "metadata": {},
   "outputs": [
    {
     "data": {
      "text/plain": [
       "'complex(0,1)*G*T(GluOutPropagator79,ColLeg81,ColLeg80)*Gamma(MuOutPropagator79,SpinLeg81,SpinLeg80) * complex(0,1)*G*T(GluInPropagator79,ColLeg82,ColLeg83)*Gamma(MuInPropagator79,SpinLeg82,SpinLeg83) * VC(ColLeg80,Mom_p_a)*u(SpinLeg80,Mom_p_a) * VC(ColLeg81,Mom_p_b)*v(SpinLeg81,Mom_p_b) * VC(ColLeg82,Mom_k_a)*u_bar(SpinLeg82,Mom_k_a) * VC(ColLeg83,Mom_k_b)*v_bar(SpinLeg83,Mom_k_b) * da(GluInPropagator79,GluOutPropagator79)*Metric(MuInPropagator79,MuOutPropagator79)*Denom(+Mom_p_a+Mom_p_b,0)'"
      ]
     },
     "execution_count": 27,
     "metadata": {},
     "output_type": "execute_result"
    }
   ],
   "source": [
    "a=fp.feynman_diagram_to_string(fd,fm)\n",
    "a"
   ]
  },
  {
   "cell_type": "code",
   "execution_count": 28,
   "id": "dcb60060-f937-4267-ac37-7ad84acbc445",
   "metadata": {},
   "outputs": [],
   "source": [
    "s2 = square([fd],fm,tag=False)"
   ]
  },
  {
   "cell_type": "markdown",
   "id": "7a6efe35-4e3b-450a-ac4c-5b29b2285f16",
   "metadata": {},
   "source": [
    "We are going to construct a single form script to perform all changes. Again as a string for ease."
   ]
  },
  {
   "cell_type": "code",
   "execution_count": 29,
   "id": "c10981c4-ddd3-4ae7-bf44-25d9927bcdf7",
   "metadata": {},
   "outputs": [],
   "source": [
    "fs = \"\"\n",
    "fs += get_gammas()\n",
    "fs += get_color()\n",
    "fs += get_kinematics()\n",
    "fs += get_onshell(fd,fm)\n",
    "fs += get_mandelstamm_2_to_2(fd,fm)"
   ]
  },
  {
   "cell_type": "code",
   "execution_count": 30,
   "id": "52b3d386-be65-4fe5-ae10-9cf1c5fab281",
   "metadata": {},
   "outputs": [
    {
     "data": {
      "text/plain": [
       "'4*Den(Mom_p_a.Mom_p_a+2*Mom_p_a.Mom_p_b+Mom_p_b.Mom_p_b)^2*G^4*Nc*Cf*msu^2+4*Den(Mom_p_a.Mom_p_a+2*Mom_p_a.Mom_p_b+Mom_p_b.Mom_p_b)^2*G^4*Nc*Cf*mst^2'"
      ]
     },
     "execution_count": 30,
     "metadata": {},
     "output_type": "execute_result"
    }
   ],
   "source": [
    "rs =apply(s2,fs)\n",
    "rs"
   ]
  },
  {
   "cell_type": "markdown",
   "id": "e3ab85c5-c755-4f74-9e08-774eb1730ce6",
   "metadata": {},
   "source": [
    "Denominators are treated separately for future loop support."
   ]
  },
  {
   "cell_type": "code",
   "execution_count": 31,
   "id": "2fd6f231-2c5e-409c-99e8-825426958f35",
   "metadata": {},
   "outputs": [],
   "source": [
    "result= apply_den(rs,get_onshell(fd,fm) + get_mandelstamm_2_to_2(fd,fm,replace_u=True))"
   ]
  },
  {
   "cell_type": "code",
   "execution_count": 32,
   "id": "84bf1db5-d408-4903-b095-38f0e6451d6b",
   "metadata": {},
   "outputs": [
    {
     "data": {
      "text/latex": [
       "$\\displaystyle \\frac{4 G^{4} \\left(t^{2} + u^{2}\\right)}{9 s^{2}}$"
      ],
      "text/plain": [
       "4*G**4*(t**2 + u**2)/(9*s**2)"
      ]
     },
     "execution_count": 32,
     "metadata": {},
     "output_type": "execute_result"
    }
   ],
   "source": [
    "ret =simplify(parse_expr(result.replace(\"Mom_\",\"\").replace(\".\",\"_\").replace(\"^\",\"**\").replace(\"mss\",\"s\").replace(\"msu\",\"u\").replace(\"mst\",\"t\")))\n",
    "ret = simplify(ret.subs(\"Nc\",\"3\").subs(\"Cf\",\"4/3\"))/2/2/3/3 # average spins and colors\n",
    "ret"
   ]
  },
  {
   "cell_type": "code",
   "execution_count": 33,
   "id": "d8a252e9-6937-452f-b838-8510caa0c989",
   "metadata": {},
   "outputs": [
    {
     "data": {
      "text/latex": [
       "$\\displaystyle \\frac{4 G^{4} \\left(t^{2} + u^{2}\\right)}{9 s^{2}}$"
      ],
      "text/plain": [
       "4*G**4*(t**2 + u**2)/(9*s**2)"
      ]
     },
     "execution_count": 33,
     "metadata": {},
     "output_type": "execute_result"
    }
   ],
   "source": [
    "# Ellis stirling and weber QCD and collider physics Tab 7.1\n",
    "# https://feyncalc.github.io/FeynCalcExamplesMD/QCD/Tree/QiQibar-QjQjbar\n",
    "expected = simplify(parse_expr(\"4*G**4*(t**2+u**2)/(9 *s**2)\"))#.subs(\"s\",\"t+u\")\n",
    "expected"
   ]
  },
  {
   "cell_type": "code",
   "execution_count": 34,
   "id": "490f721b-7f3e-4722-a0d9-f05bd2af25a0",
   "metadata": {},
   "outputs": [
    {
     "data": {
      "text/plain": [
       "True"
      ]
     },
     "execution_count": 34,
     "metadata": {},
     "output_type": "execute_result"
    }
   ],
   "source": [
    "# compare\n",
    "ret.equals(expected)"
   ]
  },
  {
   "cell_type": "code",
   "execution_count": null,
   "id": "46785175-66a9-4a80-a7f8-77726719a6ec",
   "metadata": {},
   "outputs": [],
   "source": []
  }
 ],
 "metadata": {
  "kernelspec": {
   "display_name": "Python 3 (ipykernel)",
   "language": "python",
   "name": "python3"
  },
  "language_info": {
   "codemirror_mode": {
    "name": "ipython",
    "version": 3
   },
   "file_extension": ".py",
   "mimetype": "text/x-python",
   "name": "python",
   "nbconvert_exporter": "python",
   "pygments_lexer": "ipython3",
   "version": "3.11.5"
  }
 },
 "nbformat": 4,
 "nbformat_minor": 5
}
