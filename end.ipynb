{
 "cells": [
  {
   "attachments": {},
   "cell_type": "markdown",
   "metadata": {},
   "source": [
    "# The End\n",
    "\n",
    "What's next:\n",
    "\n",
    "* mermaid-js rendering for direct integration into Markdown and Jupyter Notebooks\n",
    "* increase the number of supported feynml attributes/styles per render\n",
    "* import and export feynml to JaxoDraw\n",
    "* add box calculations to feynamp (+ many more tests)\n",
    "* further complex combined particles\n",
    "\n",
    "Questions or comments? (Now or open an issue on [GitHub](https://github.com/APN-Pucky/pyfeyn2).)"
   ]
  },
  {
   "attachments": {},
   "cell_type": "markdown",
   "metadata": {},
   "source": []
  }
 ],
 "metadata": {
  "language_info": {
   "name": "python"
  },
  "orig_nbformat": 4
 },
 "nbformat": 4,
 "nbformat_minor": 2
}
