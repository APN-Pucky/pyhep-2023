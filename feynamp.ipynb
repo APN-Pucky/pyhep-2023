{
 "cells": [
  {
   "attachments": {},
   "cell_type": "markdown",
   "id": "24660f3b",
   "metadata": {},
   "source": [
    "# feynamp\n",
    "\n",
    "is a experimental package to demonstrate, that feynml + feynmodel can be used to generate amplitudes for Feynman diagrams. "
   ]
  }
 ],
 "metadata": {
  "kernelspec": {
   "display_name": "Python 3 (ipykernel)",
   "language": "python",
   "name": "python3"
  },
  "language_info": {
   "codemirror_mode": {
    "name": "ipython",
    "version": 3
   },
   "file_extension": ".py",
   "mimetype": "text/x-python",
   "name": "python",
   "nbconvert_exporter": "python",
   "pygments_lexer": "ipython3",
   "version": "3.11.5"
  }
 },
 "nbformat": 4,
 "nbformat_minor": 5
}
