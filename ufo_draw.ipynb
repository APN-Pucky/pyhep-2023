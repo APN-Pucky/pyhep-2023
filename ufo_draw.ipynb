{
 "cells": [
  {
   "attachments": {},
   "cell_type": "markdown",
   "id": "29b12fc7",
   "metadata": {},
   "source": [
    "## ufo_draw\n",
    "\n",
    "is a program that uses pyfeyn2, feynml, qgraf, feynmodel to draw Feynman diagrams."
   ]
  },
  {
   "attachments": {},
   "cell_type": "markdown",
   "id": "1fcba177",
   "metadata": {},
   "source": [
    "## UFO  - Universal FeynRules Object"
   ]
  },
  {
   "cell_type": "code",
   "execution_count": null,
   "id": "2ac2ce2f",
   "metadata": {},
   "outputs": [],
   "source": []
  }
 ],
 "metadata": {
  "kernelspec": {
   "display_name": "Python 3 (ipykernel)",
   "language": "python",
   "name": "python3"
  },
  "language_info": {
   "codemirror_mode": {
    "name": "ipython",
    "version": 3
   },
   "file_extension": ".py",
   "mimetype": "text/x-python",
   "name": "python",
   "nbconvert_exporter": "python",
   "pygments_lexer": "ipython3",
   "version": "3.11.5"
  }
 },
 "nbformat": 4,
 "nbformat_minor": 5
}
